{
 "cells": [
  {
   "cell_type": "markdown",
   "metadata": {},
   "source": [
    "# Setup"
   ]
  },
  {
   "cell_type": "code",
   "execution_count": 1,
   "metadata": {},
   "outputs": [
    {
     "data": {
      "text/plain": [
       "'Connected: @data/sfscores.sqlite'"
      ]
     },
     "execution_count": 1,
     "metadata": {},
     "output_type": "execute_result"
    }
   ],
   "source": [
    "%load_ext sql\n",
    "%sql sqlite:///data/sfscores.sqlite"
   ]
  },
  {
   "cell_type": "markdown",
   "metadata": {},
   "source": [
    "# Queries"
   ]
  },
  {
   "cell_type": "markdown",
   "metadata": {},
   "source": [
    "## Pt1: Essentials"
   ]
  },
  {
   "cell_type": "markdown",
   "metadata": {},
   "source": [
    "**1. Write a SQL query that finds the number of business ids in the businesses table**"
   ]
  },
  {
   "cell_type": "code",
   "execution_count": 2,
   "metadata": {
    "scrolled": true
   },
   "outputs": [
    {
     "name": "stdout",
     "output_type": "stream",
     "text": [
      " * sqlite:///data/sfscores.sqlite\n",
      "Done.\n"
     ]
    },
    {
     "data": {
      "text/html": [
       "<table>\n",
       "    <tr>\n",
       "        <th>business_id</th>\n",
       "        <th>name</th>\n",
       "        <th>address</th>\n",
       "        <th>city</th>\n",
       "        <th>postal_code</th>\n",
       "        <th>latitude</th>\n",
       "        <th>longitude</th>\n",
       "        <th>phone_number</th>\n",
       "        <th>TaxCode</th>\n",
       "        <th>business_certificate</th>\n",
       "        <th>application_date</th>\n",
       "        <th>owner_name</th>\n",
       "        <th>owner_address</th>\n",
       "        <th>owner_city</th>\n",
       "        <th>owner_state</th>\n",
       "        <th>owner_zip</th>\n",
       "    </tr>\n",
       "    <tr>\n",
       "        <td>10</td>\n",
       "        <td>Tiramisu Kitchen</td>\n",
       "        <td>033 Belden Pl</td>\n",
       "        <td>San Francisco</td>\n",
       "        <td>94104</td>\n",
       "        <td>37.791116</td>\n",
       "        <td>-122.403816</td>\n",
       "        <td>None</td>\n",
       "        <td>H24</td>\n",
       "        <td>779059</td>\n",
       "        <td>None</td>\n",
       "        <td>Tiramisu LLC</td>\n",
       "        <td>33 Belden St</td>\n",
       "        <td>San Francisco</td>\n",
       "        <td>CA</td>\n",
       "        <td>94104</td>\n",
       "    </tr>\n",
       "    <tr>\n",
       "        <td>19</td>\n",
       "        <td>Nrgize Lifestyle Cafe</td>\n",
       "        <td>1200 Van Ness Ave, 3rd Floor</td>\n",
       "        <td>San Francisco</td>\n",
       "        <td>94109</td>\n",
       "        <td>37.786848</td>\n",
       "        <td>-122.421547</td>\n",
       "        <td>None</td>\n",
       "        <td>H24</td>\n",
       "        <td>None</td>\n",
       "        <td>None</td>\n",
       "        <td>24 Hour Fitness Inc</td>\n",
       "        <td>1200 Van Ness Ave, 3rd Floor</td>\n",
       "        <td>San Francisco</td>\n",
       "        <td>CA</td>\n",
       "        <td>94109</td>\n",
       "    </tr>\n",
       "    <tr>\n",
       "        <td>24</td>\n",
       "        <td>OMNI S.F. Hotel - 2nd Floor Pantry</td>\n",
       "        <td>500 California St, 2nd  Floor</td>\n",
       "        <td>San Francisco</td>\n",
       "        <td>94104</td>\n",
       "        <td>37.792888</td>\n",
       "        <td>-122.403135</td>\n",
       "        <td>None</td>\n",
       "        <td>H24</td>\n",
       "        <td>352312</td>\n",
       "        <td>None</td>\n",
       "        <td>OMNI San Francisco Hotel Corp</td>\n",
       "        <td>500 California St, 2nd Floor</td>\n",
       "        <td>San Francisco</td>\n",
       "        <td>CA</td>\n",
       "        <td>94104</td>\n",
       "    </tr>\n",
       "    <tr>\n",
       "        <td>31</td>\n",
       "        <td>Norman&#x27;s Ice Cream and Freezes</td>\n",
       "        <td>2801 Leavenworth St</td>\n",
       "        <td>San Francisco</td>\n",
       "        <td>94133</td>\n",
       "        <td>37.807155</td>\n",
       "        <td>-122.419004</td>\n",
       "        <td>None</td>\n",
       "        <td>H24</td>\n",
       "        <td>346882</td>\n",
       "        <td>None</td>\n",
       "        <td>Norman Antiforda</td>\n",
       "        <td>2801 Leavenworth St</td>\n",
       "        <td>San Francisco</td>\n",
       "        <td>CA</td>\n",
       "        <td>94133</td>\n",
       "    </tr>\n",
       "    <tr>\n",
       "        <td>45</td>\n",
       "        <td>CHARLIE&#x27;S DELI CAFE</td>\n",
       "        <td>3202 FOLSOM St</td>\n",
       "        <td>S.F.</td>\n",
       "        <td>94110</td>\n",
       "        <td>37.747114</td>\n",
       "        <td>-122.413641</td>\n",
       "        <td>None</td>\n",
       "        <td>H24</td>\n",
       "        <td>340024</td>\n",
       "        <td>2001-10-10</td>\n",
       "        <td>HARB, CHARLES AND KRISTIN</td>\n",
       "        <td>1150 SANCHEZ</td>\n",
       "        <td>S.F.</td>\n",
       "        <td>CA</td>\n",
       "        <td>94114</td>\n",
       "    </tr>\n",
       "</table>"
      ],
      "text/plain": [
       "[(10, 'Tiramisu Kitchen', '033 Belden Pl', 'San Francisco', '94104', 37.791116, -122.403816, None, 'H24', 779059, None, 'Tiramisu LLC', '33 Belden St', 'San Francisco', 'CA', '94104'),\n",
       " (19, 'Nrgize Lifestyle Cafe', '1200 Van Ness Ave, 3rd Floor', 'San Francisco', '94109', 37.786848, -122.421547, None, 'H24', None, None, '24 Hour Fitness Inc', '1200 Van Ness Ave, 3rd Floor', 'San Francisco', 'CA', '94109'),\n",
       " (24, 'OMNI S.F. Hotel - 2nd Floor Pantry', '500 California St, 2nd  Floor', 'San Francisco', '94104', 37.792888, -122.403135, None, 'H24', 352312, None, 'OMNI San Francisco Hotel Corp', '500 California St, 2nd Floor', 'San Francisco', 'CA', '94104'),\n",
       " (31, \"Norman's Ice Cream and Freezes\", '2801 Leavenworth St', 'San Francisco', '94133', 37.807155, -122.419004, None, 'H24', 346882, None, 'Norman Antiforda', '2801 Leavenworth St', 'San Francisco', 'CA', '94133'),\n",
       " (45, \"CHARLIE'S DELI CAFE\", '3202 FOLSOM St', 'S.F.', '94110', 37.747114, -122.413641, None, 'H24', 340024, '2001-10-10', 'HARB, CHARLES AND KRISTIN', '1150 SANCHEZ', 'S.F.', 'CA', '94114')]"
      ]
     },
     "execution_count": 2,
     "metadata": {},
     "output_type": "execute_result"
    }
   ],
   "source": [
    "%%sql \n",
    "SELECT * FROM businesses LIMIT 5;"
   ]
  },
  {
   "cell_type": "code",
   "execution_count": 3,
   "metadata": {},
   "outputs": [
    {
     "name": "stdout",
     "output_type": "stream",
     "text": [
      " * sqlite:///data/sfscores.sqlite\n",
      "Done.\n"
     ]
    },
    {
     "data": {
      "text/html": [
       "<table>\n",
       "    <tr>\n",
       "        <th>business_id</th>\n",
       "        <th>date</th>\n",
       "        <th>ViolationTypeID</th>\n",
       "        <th>risk_category</th>\n",
       "        <th>description</th>\n",
       "    </tr>\n",
       "    <tr>\n",
       "        <td>10</td>\n",
       "        <td>20140729</td>\n",
       "        <td>103129</td>\n",
       "        <td>Moderate Risk</td>\n",
       "        <td>Insufficient hot water or running water</td>\n",
       "    </tr>\n",
       "    <tr>\n",
       "        <td>10</td>\n",
       "        <td>20140729</td>\n",
       "        <td>103144</td>\n",
       "        <td>Low Risk</td>\n",
       "        <td>Unapproved or unmaintained equipment or utensils</td>\n",
       "    </tr>\n",
       "    <tr>\n",
       "        <td>10</td>\n",
       "        <td>20140114</td>\n",
       "        <td>103119</td>\n",
       "        <td>Moderate Risk</td>\n",
       "        <td>Inadequate and inaccessible handwashing facilities</td>\n",
       "    </tr>\n",
       "    <tr>\n",
       "        <td>10</td>\n",
       "        <td>20140114</td>\n",
       "        <td>103145</td>\n",
       "        <td>Low Risk</td>\n",
       "        <td>Improper storage of equipment utensils or linens</td>\n",
       "    </tr>\n",
       "    <tr>\n",
       "        <td>10</td>\n",
       "        <td>20140114</td>\n",
       "        <td>103154</td>\n",
       "        <td>Low Risk</td>\n",
       "        <td>Unclean or degraded floors walls or ceilings</td>\n",
       "    </tr>\n",
       "</table>"
      ],
      "text/plain": [
       "[('10', 20140729, '103129', 'Moderate Risk', 'Insufficient hot water or running water'),\n",
       " ('10', 20140729, '103144', 'Low Risk', 'Unapproved or unmaintained equipment or utensils'),\n",
       " ('10', 20140114, '103119', 'Moderate Risk', 'Inadequate and inaccessible handwashing facilities'),\n",
       " ('10', 20140114, '103145', 'Low Risk', 'Improper storage of equipment utensils or linens'),\n",
       " ('10', 20140114, '103154', 'Low Risk', 'Unclean or degraded floors walls or ceilings')]"
      ]
     },
     "execution_count": 3,
     "metadata": {},
     "output_type": "execute_result"
    }
   ],
   "source": [
    "%%sql\n",
    "SELECT * FROM violations LIMIT 5;"
   ]
  },
  {
   "cell_type": "code",
   "execution_count": 4,
   "metadata": {},
   "outputs": [
    {
     "name": "stdout",
     "output_type": "stream",
     "text": [
      " * sqlite:///data/sfscores.sqlite\n",
      "Done.\n"
     ]
    },
    {
     "data": {
      "text/html": [
       "<table>\n",
       "    <tr>\n",
       "        <th>business_id</th>\n",
       "        <th>Score</th>\n",
       "        <th>date</th>\n",
       "        <th>type</th>\n",
       "    </tr>\n",
       "    <tr>\n",
       "        <td>10</td>\n",
       "        <td>None</td>\n",
       "        <td>20160707</td>\n",
       "        <td>Complaint Reinspection/Followup</td>\n",
       "    </tr>\n",
       "    <tr>\n",
       "        <td>10</td>\n",
       "        <td>82</td>\n",
       "        <td>20160503</td>\n",
       "        <td>Routine - Unscheduled</td>\n",
       "    </tr>\n",
       "    <tr>\n",
       "        <td>10</td>\n",
       "        <td>None</td>\n",
       "        <td>20140807</td>\n",
       "        <td>Reinspection/Followup</td>\n",
       "    </tr>\n",
       "    <tr>\n",
       "        <td>10</td>\n",
       "        <td>94</td>\n",
       "        <td>20140729</td>\n",
       "        <td>Routine - Unscheduled</td>\n",
       "    </tr>\n",
       "    <tr>\n",
       "        <td>10</td>\n",
       "        <td>None</td>\n",
       "        <td>20140124</td>\n",
       "        <td>Reinspection/Followup</td>\n",
       "    </tr>\n",
       "</table>"
      ],
      "text/plain": [
       "[('10', None, 20160707, 'Complaint Reinspection/Followup'),\n",
       " ('10', 82, 20160503, 'Routine - Unscheduled'),\n",
       " ('10', None, 20140807, 'Reinspection/Followup'),\n",
       " ('10', 94, 20140729, 'Routine - Unscheduled'),\n",
       " ('10', None, 20140124, 'Reinspection/Followup')]"
      ]
     },
     "execution_count": 4,
     "metadata": {},
     "output_type": "execute_result"
    }
   ],
   "source": [
    "%%sql\n",
    "SELECT * FROM inspections LIMIT 5;"
   ]
  },
  {
   "cell_type": "code",
   "execution_count": 5,
   "metadata": {},
   "outputs": [
    {
     "name": "stdout",
     "output_type": "stream",
     "text": [
      " * sqlite:///data/sfscores.sqlite\n",
      "Done.\n"
     ]
    },
    {
     "data": {
      "text/html": [
       "<table>\n",
       "    <tr>\n",
       "        <th>COUNT(business_id)</th>\n",
       "    </tr>\n",
       "    <tr>\n",
       "        <td>7619</td>\n",
       "    </tr>\n",
       "</table>"
      ],
      "text/plain": [
       "[(7619,)]"
      ]
     },
     "execution_count": 5,
     "metadata": {},
     "output_type": "execute_result"
    }
   ],
   "source": [
    "%%sql \n",
    "SELECT COUNT(business_id) FROM businesses;"
   ]
  },
  {
   "cell_type": "markdown",
   "metadata": {},
   "source": [
    "**2. Write a SQL query that finds out how many unique business names are registered with San Francisco Food health investigation organization and name the column as unique restaurant name count.**"
   ]
  },
  {
   "cell_type": "code",
   "execution_count": 6,
   "metadata": {},
   "outputs": [
    {
     "name": "stdout",
     "output_type": "stream",
     "text": [
      " * sqlite:///data/sfscores.sqlite\n",
      "Done.\n"
     ]
    },
    {
     "data": {
      "text/html": [
       "<table>\n",
       "    <tr>\n",
       "        <th>unique_restaurant_name_count</th>\n",
       "    </tr>\n",
       "    <tr>\n",
       "        <td>7060</td>\n",
       "    </tr>\n",
       "</table>"
      ],
      "text/plain": [
       "[(7060,)]"
      ]
     },
     "execution_count": 6,
     "metadata": {},
     "output_type": "execute_result"
    }
   ],
   "source": [
    "%%sql \n",
    "SELECT COUNT(DISTINCT name) as unique_restaurant_name_count\n",
    "FROM businesses;"
   ]
  },
  {
   "cell_type": "markdown",
   "metadata": {},
   "source": [
    "**3. Write a SQL query that finds out what is the earliest and latest date a health investigation is recorded in this database.**"
   ]
  },
  {
   "cell_type": "code",
   "execution_count": 7,
   "metadata": {},
   "outputs": [
    {
     "name": "stdout",
     "output_type": "stream",
     "text": [
      " * sqlite:///data/sfscores.sqlite\n",
      "Done.\n"
     ]
    },
    {
     "data": {
      "text/html": [
       "<table>\n",
       "    <tr>\n",
       "        <th>MIN(date)</th>\n",
       "        <th>MAX(date)</th>\n",
       "    </tr>\n",
       "    <tr>\n",
       "        <td>20131007</td>\n",
       "        <td>20161215</td>\n",
       "    </tr>\n",
       "</table>"
      ],
      "text/plain": [
       "[(20131007, 20161215)]"
      ]
     },
     "execution_count": 7,
     "metadata": {},
     "output_type": "execute_result"
    }
   ],
   "source": [
    "%%sql\n",
    "SELECT MIN(date), MAX(date) FROM inspections"
   ]
  },
  {
   "cell_type": "markdown",
   "metadata": {},
   "source": [
    "**4. How many businesses are there in San Francisco where their owners live in the same area (postal code/ zip code) as the business is located?**"
   ]
  },
  {
   "cell_type": "code",
   "execution_count": 8,
   "metadata": {},
   "outputs": [
    {
     "name": "stdout",
     "output_type": "stream",
     "text": [
      " * sqlite:///data/sfscores.sqlite\n",
      "Done.\n"
     ]
    },
    {
     "data": {
      "text/html": [
       "<table>\n",
       "    <tr>\n",
       "        <th>COUNT(owner_zip)</th>\n",
       "    </tr>\n",
       "    <tr>\n",
       "        <td>4053</td>\n",
       "    </tr>\n",
       "</table>"
      ],
      "text/plain": [
       "[(4053,)]"
      ]
     },
     "execution_count": 8,
     "metadata": {},
     "output_type": "execute_result"
    }
   ],
   "source": [
    "%%sql\n",
    "SELECT COUNT(owner_zip)\n",
    "FROM businesses\n",
    "WHERE owner_zip = postal_code\n"
   ]
  },
  {
   "cell_type": "markdown",
   "metadata": {},
   "source": [
    "**5. Out of those businesses, how many of them has a registered business certificate?**"
   ]
  },
  {
   "cell_type": "code",
   "execution_count": 9,
   "metadata": {},
   "outputs": [
    {
     "name": "stdout",
     "output_type": "stream",
     "text": [
      " * sqlite:///data/sfscores.sqlite\n",
      "Done.\n"
     ]
    },
    {
     "data": {
      "text/html": [
       "<table>\n",
       "    <tr>\n",
       "        <th>COUNT(business_certificate)</th>\n",
       "    </tr>\n",
       "    <tr>\n",
       "        <td>3373</td>\n",
       "    </tr>\n",
       "</table>"
      ],
      "text/plain": [
       "[(3373,)]"
      ]
     },
     "execution_count": 9,
     "metadata": {},
     "output_type": "execute_result"
    }
   ],
   "source": [
    "%%sql\n",
    "SELECT COUNT(business_certificate) \n",
    "FROM businesses\n",
    "WHERE (business_certificate IS NOT NULL) AND (owner_zip = postal_code)"
   ]
  },
  {
   "cell_type": "code",
   "execution_count": 10,
   "metadata": {},
   "outputs": [
    {
     "name": "stdout",
     "output_type": "stream",
     "text": [
      " * sqlite:///data/sfscores.sqlite\n",
      "Done.\n"
     ]
    },
    {
     "data": {
      "text/html": [
       "<table>\n",
       "    <tr>\n",
       "        <th>COUNT(DISTINCT business_certificate)</th>\n",
       "    </tr>\n",
       "    <tr>\n",
       "        <td>5215</td>\n",
       "    </tr>\n",
       "</table>"
      ],
      "text/plain": [
       "[(5215,)]"
      ]
     },
     "execution_count": 10,
     "metadata": {},
     "output_type": "execute_result"
    }
   ],
   "source": [
    "%%sql\n",
    "SELECT COUNT(DISTINCT business_certificate)\n",
    "FROM businesses\n",
    "WHERE business_certificate IS NOT NULL"
   ]
  },
  {
   "cell_type": "markdown",
   "metadata": {},
   "source": [
    "## Pt2: Groupby"
   ]
  },
  {
   "cell_type": "markdown",
   "metadata": {},
   "source": [
    "**6. Find out the distribution of the risk exposure of all the violations reported in the database. The first column of the result should 'risk_category' and the second column the count.**"
   ]
  },
  {
   "cell_type": "code",
   "execution_count": 11,
   "metadata": {},
   "outputs": [
    {
     "name": "stdout",
     "output_type": "stream",
     "text": [
      " * sqlite:///data/sfscores.sqlite\n",
      "Done.\n"
     ]
    },
    {
     "data": {
      "text/html": [
       "<table>\n",
       "    <tr>\n",
       "        <th>business_id</th>\n",
       "        <th>date</th>\n",
       "        <th>ViolationTypeID</th>\n",
       "        <th>risk_category</th>\n",
       "        <th>description</th>\n",
       "    </tr>\n",
       "    <tr>\n",
       "        <td>10</td>\n",
       "        <td>20140729</td>\n",
       "        <td>103129</td>\n",
       "        <td>Moderate Risk</td>\n",
       "        <td>Insufficient hot water or running water</td>\n",
       "    </tr>\n",
       "    <tr>\n",
       "        <td>10</td>\n",
       "        <td>20140729</td>\n",
       "        <td>103144</td>\n",
       "        <td>Low Risk</td>\n",
       "        <td>Unapproved or unmaintained equipment or utensils</td>\n",
       "    </tr>\n",
       "    <tr>\n",
       "        <td>10</td>\n",
       "        <td>20140114</td>\n",
       "        <td>103119</td>\n",
       "        <td>Moderate Risk</td>\n",
       "        <td>Inadequate and inaccessible handwashing facilities</td>\n",
       "    </tr>\n",
       "    <tr>\n",
       "        <td>10</td>\n",
       "        <td>20140114</td>\n",
       "        <td>103145</td>\n",
       "        <td>Low Risk</td>\n",
       "        <td>Improper storage of equipment utensils or linens</td>\n",
       "    </tr>\n",
       "    <tr>\n",
       "        <td>10</td>\n",
       "        <td>20140114</td>\n",
       "        <td>103154</td>\n",
       "        <td>Low Risk</td>\n",
       "        <td>Unclean or degraded floors walls or ceilings</td>\n",
       "    </tr>\n",
       "</table>"
      ],
      "text/plain": [
       "[('10', 20140729, '103129', 'Moderate Risk', 'Insufficient hot water or running water'),\n",
       " ('10', 20140729, '103144', 'Low Risk', 'Unapproved or unmaintained equipment or utensils'),\n",
       " ('10', 20140114, '103119', 'Moderate Risk', 'Inadequate and inaccessible handwashing facilities'),\n",
       " ('10', 20140114, '103145', 'Low Risk', 'Improper storage of equipment utensils or linens'),\n",
       " ('10', 20140114, '103154', 'Low Risk', 'Unclean or degraded floors walls or ceilings')]"
      ]
     },
     "execution_count": 11,
     "metadata": {},
     "output_type": "execute_result"
    }
   ],
   "source": [
    "%%sql\n",
    "SELECT * FROM violations LIMIT 5"
   ]
  },
  {
   "cell_type": "code",
   "execution_count": 12,
   "metadata": {},
   "outputs": [
    {
     "name": "stdout",
     "output_type": "stream",
     "text": [
      " * sqlite:///data/sfscores.sqlite\n",
      "Done.\n"
     ]
    },
    {
     "data": {
      "text/html": [
       "<table>\n",
       "    <tr>\n",
       "        <th>risk_category</th>\n",
       "        <th>count</th>\n",
       "    </tr>\n",
       "    <tr>\n",
       "        <td>High Risk</td>\n",
       "        <td>5608</td>\n",
       "    </tr>\n",
       "    <tr>\n",
       "        <td>Low Risk</td>\n",
       "        <td>20996</td>\n",
       "    </tr>\n",
       "    <tr>\n",
       "        <td>Moderate Risk</td>\n",
       "        <td>14131</td>\n",
       "    </tr>\n",
       "</table>"
      ],
      "text/plain": [
       "[('High Risk', 5608), ('Low Risk', 20996), ('Moderate Risk', 14131)]"
      ]
     },
     "execution_count": 12,
     "metadata": {},
     "output_type": "execute_result"
    }
   ],
   "source": [
    "%%sql\n",
    "SELECT risk_category, COUNT(*) as count\n",
    "FROM violations\n",
    "GROUP BY risk_category"
   ]
  },
  {
   "cell_type": "markdown",
   "metadata": {},
   "source": [
    "**7. Find out the distribution of the risk exposure of all the violations reported in the database that are *water related*. Sort them by frequency (count) from high to low.**"
   ]
  },
  {
   "cell_type": "code",
   "execution_count": 13,
   "metadata": {},
   "outputs": [
    {
     "name": "stdout",
     "output_type": "stream",
     "text": [
      " * sqlite:///data/sfscores.sqlite\n",
      "Done.\n"
     ]
    },
    {
     "data": {
      "text/html": [
       "<table>\n",
       "    <tr>\n",
       "        <th>risk_category</th>\n",
       "        <th>count</th>\n",
       "    </tr>\n",
       "    <tr>\n",
       "        <td>Moderate Risk</td>\n",
       "        <td>630</td>\n",
       "    </tr>\n",
       "    <tr>\n",
       "        <td>High Risk</td>\n",
       "        <td>237</td>\n",
       "    </tr>\n",
       "</table>"
      ],
      "text/plain": [
       "[('Moderate Risk', 630), ('High Risk', 237)]"
      ]
     },
     "execution_count": 13,
     "metadata": {},
     "output_type": "execute_result"
    }
   ],
   "source": [
    "%%sql\n",
    "SELECT risk_category, COUNT(*) as count\n",
    "FROM violations\n",
    "WHERE description LIKE '%water%'\n",
    "GROUP BY risk_category\n",
    "Order BY count DESC"
   ]
  },
  {
   "cell_type": "markdown",
   "metadata": {},
   "source": [
    "** 8. What types of inspections does the authorities conduct and how often do they occur in general.\n",
    "    Calculate the distribution of different types of inspections with their frequency (type, frequency)\n",
    "    based on inspections records. Sort them in ascending order based on frequency.**"
   ]
  },
  {
   "cell_type": "code",
   "execution_count": 14,
   "metadata": {},
   "outputs": [
    {
     "name": "stdout",
     "output_type": "stream",
     "text": [
      " * sqlite:///data/sfscores.sqlite\n",
      "Done.\n"
     ]
    },
    {
     "data": {
      "text/html": [
       "<table>\n",
       "    <tr>\n",
       "        <th>type</th>\n",
       "        <th>frequency</th>\n",
       "    </tr>\n",
       "    <tr>\n",
       "        <td>Multi-agency Investigation</td>\n",
       "        <td>1</td>\n",
       "    </tr>\n",
       "    <tr>\n",
       "        <td>Administrative or Document Review</td>\n",
       "        <td>3</td>\n",
       "    </tr>\n",
       "    <tr>\n",
       "        <td>Special Event</td>\n",
       "        <td>7</td>\n",
       "    </tr>\n",
       "    <tr>\n",
       "        <td>Routine - Scheduled</td>\n",
       "        <td>74</td>\n",
       "    </tr>\n",
       "    <tr>\n",
       "        <td>Foodborne Illness Investigation</td>\n",
       "        <td>80</td>\n",
       "    </tr>\n",
       "    <tr>\n",
       "        <td>Complaint Reinspection/Followup</td>\n",
       "        <td>138</td>\n",
       "    </tr>\n",
       "    <tr>\n",
       "        <td>Structural Inspection</td>\n",
       "        <td>170</td>\n",
       "    </tr>\n",
       "    <tr>\n",
       "        <td>Non-inspection site visit</td>\n",
       "        <td>814</td>\n",
       "    </tr>\n",
       "    <tr>\n",
       "        <td>Complaint</td>\n",
       "        <td>1625</td>\n",
       "    </tr>\n",
       "    <tr>\n",
       "        <td>New Construction</td>\n",
       "        <td>1737</td>\n",
       "    </tr>\n",
       "    <tr>\n",
       "        <td>New Ownership</td>\n",
       "        <td>1843</td>\n",
       "    </tr>\n",
       "    <tr>\n",
       "        <td>Reinspection/Followup</td>\n",
       "        <td>5283</td>\n",
       "    </tr>\n",
       "    <tr>\n",
       "        <td>Routine - Unscheduled</td>\n",
       "        <td>15568</td>\n",
       "    </tr>\n",
       "</table>"
      ],
      "text/plain": [
       "[('Multi-agency Investigation', 1),\n",
       " ('Administrative or Document Review', 3),\n",
       " ('Special Event', 7),\n",
       " ('Routine - Scheduled', 74),\n",
       " ('Foodborne Illness Investigation', 80),\n",
       " ('Complaint Reinspection/Followup', 138),\n",
       " ('Structural Inspection', 170),\n",
       " ('Non-inspection site visit', 814),\n",
       " ('Complaint', 1625),\n",
       " ('New Construction', 1737),\n",
       " ('New Ownership', 1843),\n",
       " ('Reinspection/Followup', 5283),\n",
       " ('Routine - Unscheduled', 15568)]"
      ]
     },
     "execution_count": 14,
     "metadata": {},
     "output_type": "execute_result"
    }
   ],
   "source": [
    "%%sql\n",
    "SELECT type, COUNT(*) as frequency\n",
    "FROM inspections\n",
    "GROUP BY type\n",
    "Order BY frequency ASC"
   ]
  },
  {
   "cell_type": "code",
   "execution_count": 15,
   "metadata": {},
   "outputs": [
    {
     "name": "stdout",
     "output_type": "stream",
     "text": [
      " * sqlite:///data/sfscores.sqlite\n",
      "Done.\n"
     ]
    },
    {
     "data": {
      "text/html": [
       "<table>\n",
       "    <tr>\n",
       "        <th>business_id</th>\n",
       "        <th>Score</th>\n",
       "        <th>date</th>\n",
       "        <th>type</th>\n",
       "    </tr>\n",
       "    <tr>\n",
       "        <td>10</td>\n",
       "        <td>None</td>\n",
       "        <td>20160707</td>\n",
       "        <td>Complaint Reinspection/Followup</td>\n",
       "    </tr>\n",
       "    <tr>\n",
       "        <td>10</td>\n",
       "        <td>82</td>\n",
       "        <td>20160503</td>\n",
       "        <td>Routine - Unscheduled</td>\n",
       "    </tr>\n",
       "    <tr>\n",
       "        <td>10</td>\n",
       "        <td>None</td>\n",
       "        <td>20140807</td>\n",
       "        <td>Reinspection/Followup</td>\n",
       "    </tr>\n",
       "    <tr>\n",
       "        <td>10</td>\n",
       "        <td>94</td>\n",
       "        <td>20140729</td>\n",
       "        <td>Routine - Unscheduled</td>\n",
       "    </tr>\n",
       "    <tr>\n",
       "        <td>10</td>\n",
       "        <td>None</td>\n",
       "        <td>20140124</td>\n",
       "        <td>Reinspection/Followup</td>\n",
       "    </tr>\n",
       "</table>"
      ],
      "text/plain": [
       "[('10', None, 20160707, 'Complaint Reinspection/Followup'),\n",
       " ('10', 82, 20160503, 'Routine - Unscheduled'),\n",
       " ('10', None, 20140807, 'Reinspection/Followup'),\n",
       " ('10', 94, 20140729, 'Routine - Unscheduled'),\n",
       " ('10', None, 20140124, 'Reinspection/Followup')]"
      ]
     },
     "execution_count": 15,
     "metadata": {},
     "output_type": "execute_result"
    }
   ],
   "source": [
    "%%sql\n",
    "SELECT * FROM inspections LIMIT 5;"
   ]
  },
  {
   "cell_type": "markdown",
   "metadata": {},
   "source": [
    "** 9. What is the average score given to restaurants based on the type of inspection?\n",
    "    Based on the results, identify the types of inspections that are not scored (NULL)\n",
    "    and remove those categories from the resultset. The 'average_score' should be rounded\n",
    "    to one decimal. Sort the results in ascending order based on the average score. Hint: use the function `ROUND(score, 1)`**"
   ]
  },
  {
   "cell_type": "code",
   "execution_count": 16,
   "metadata": {},
   "outputs": [
    {
     "name": "stdout",
     "output_type": "stream",
     "text": [
      " * sqlite:///data/sfscores.sqlite\n",
      "Done.\n"
     ]
    },
    {
     "data": {
      "text/html": [
       "<table>\n",
       "    <tr>\n",
       "        <th>type</th>\n",
       "        <th>AVG_score</th>\n",
       "    </tr>\n",
       "    <tr>\n",
       "        <td>Reinspection/Followup</td>\n",
       "        <td>85.0</td>\n",
       "    </tr>\n",
       "    <tr>\n",
       "        <td>Routine - Unscheduled</td>\n",
       "        <td>91.2</td>\n",
       "    </tr>\n",
       "    <tr>\n",
       "        <td>New Ownership</td>\n",
       "        <td>100.0</td>\n",
       "    </tr>\n",
       "</table>"
      ],
      "text/plain": [
       "[('Reinspection/Followup', 85.0),\n",
       " ('Routine - Unscheduled', 91.2),\n",
       " ('New Ownership', 100.0)]"
      ]
     },
     "execution_count": 16,
     "metadata": {},
     "output_type": "execute_result"
    }
   ],
   "source": [
    "%%sql\n",
    "SELECT type, ROUND(AVG(Score),1) as AVG_score\n",
    "FROM inspections\n",
    "WHERE Score IS NOT NULL \n",
    "GROUP BY type\n",
    "Order BY AVG_score ASC"
   ]
  },
  {
   "cell_type": "code",
   "execution_count": 17,
   "metadata": {},
   "outputs": [
    {
     "name": "stdout",
     "output_type": "stream",
     "text": [
      " * sqlite:///data/sfscores.sqlite\n",
      "Done.\n"
     ]
    },
    {
     "data": {
      "text/html": [
       "<table>\n",
       "    <tr>\n",
       "        <th>business_id</th>\n",
       "        <th>name</th>\n",
       "        <th>address</th>\n",
       "        <th>city</th>\n",
       "        <th>postal_code</th>\n",
       "        <th>latitude</th>\n",
       "        <th>longitude</th>\n",
       "        <th>phone_number</th>\n",
       "        <th>TaxCode</th>\n",
       "        <th>business_certificate</th>\n",
       "        <th>application_date</th>\n",
       "        <th>owner_name</th>\n",
       "        <th>owner_address</th>\n",
       "        <th>owner_city</th>\n",
       "        <th>owner_state</th>\n",
       "        <th>owner_zip</th>\n",
       "    </tr>\n",
       "    <tr>\n",
       "        <td>10</td>\n",
       "        <td>Tiramisu Kitchen</td>\n",
       "        <td>033 Belden Pl</td>\n",
       "        <td>San Francisco</td>\n",
       "        <td>94104</td>\n",
       "        <td>37.791116</td>\n",
       "        <td>-122.403816</td>\n",
       "        <td>None</td>\n",
       "        <td>H24</td>\n",
       "        <td>779059</td>\n",
       "        <td>None</td>\n",
       "        <td>Tiramisu LLC</td>\n",
       "        <td>33 Belden St</td>\n",
       "        <td>San Francisco</td>\n",
       "        <td>CA</td>\n",
       "        <td>94104</td>\n",
       "    </tr>\n",
       "    <tr>\n",
       "        <td>19</td>\n",
       "        <td>Nrgize Lifestyle Cafe</td>\n",
       "        <td>1200 Van Ness Ave, 3rd Floor</td>\n",
       "        <td>San Francisco</td>\n",
       "        <td>94109</td>\n",
       "        <td>37.786848</td>\n",
       "        <td>-122.421547</td>\n",
       "        <td>None</td>\n",
       "        <td>H24</td>\n",
       "        <td>None</td>\n",
       "        <td>None</td>\n",
       "        <td>24 Hour Fitness Inc</td>\n",
       "        <td>1200 Van Ness Ave, 3rd Floor</td>\n",
       "        <td>San Francisco</td>\n",
       "        <td>CA</td>\n",
       "        <td>94109</td>\n",
       "    </tr>\n",
       "    <tr>\n",
       "        <td>24</td>\n",
       "        <td>OMNI S.F. Hotel - 2nd Floor Pantry</td>\n",
       "        <td>500 California St, 2nd  Floor</td>\n",
       "        <td>San Francisco</td>\n",
       "        <td>94104</td>\n",
       "        <td>37.792888</td>\n",
       "        <td>-122.403135</td>\n",
       "        <td>None</td>\n",
       "        <td>H24</td>\n",
       "        <td>352312</td>\n",
       "        <td>None</td>\n",
       "        <td>OMNI San Francisco Hotel Corp</td>\n",
       "        <td>500 California St, 2nd Floor</td>\n",
       "        <td>San Francisco</td>\n",
       "        <td>CA</td>\n",
       "        <td>94104</td>\n",
       "    </tr>\n",
       "    <tr>\n",
       "        <td>31</td>\n",
       "        <td>Norman&#x27;s Ice Cream and Freezes</td>\n",
       "        <td>2801 Leavenworth St</td>\n",
       "        <td>San Francisco</td>\n",
       "        <td>94133</td>\n",
       "        <td>37.807155</td>\n",
       "        <td>-122.419004</td>\n",
       "        <td>None</td>\n",
       "        <td>H24</td>\n",
       "        <td>346882</td>\n",
       "        <td>None</td>\n",
       "        <td>Norman Antiforda</td>\n",
       "        <td>2801 Leavenworth St</td>\n",
       "        <td>San Francisco</td>\n",
       "        <td>CA</td>\n",
       "        <td>94133</td>\n",
       "    </tr>\n",
       "    <tr>\n",
       "        <td>45</td>\n",
       "        <td>CHARLIE&#x27;S DELI CAFE</td>\n",
       "        <td>3202 FOLSOM St</td>\n",
       "        <td>S.F.</td>\n",
       "        <td>94110</td>\n",
       "        <td>37.747114</td>\n",
       "        <td>-122.413641</td>\n",
       "        <td>None</td>\n",
       "        <td>H24</td>\n",
       "        <td>340024</td>\n",
       "        <td>2001-10-10</td>\n",
       "        <td>HARB, CHARLES AND KRISTIN</td>\n",
       "        <td>1150 SANCHEZ</td>\n",
       "        <td>S.F.</td>\n",
       "        <td>CA</td>\n",
       "        <td>94114</td>\n",
       "    </tr>\n",
       "</table>"
      ],
      "text/plain": [
       "[(10, 'Tiramisu Kitchen', '033 Belden Pl', 'San Francisco', '94104', 37.791116, -122.403816, None, 'H24', 779059, None, 'Tiramisu LLC', '33 Belden St', 'San Francisco', 'CA', '94104'),\n",
       " (19, 'Nrgize Lifestyle Cafe', '1200 Van Ness Ave, 3rd Floor', 'San Francisco', '94109', 37.786848, -122.421547, None, 'H24', None, None, '24 Hour Fitness Inc', '1200 Van Ness Ave, 3rd Floor', 'San Francisco', 'CA', '94109'),\n",
       " (24, 'OMNI S.F. Hotel - 2nd Floor Pantry', '500 California St, 2nd  Floor', 'San Francisco', '94104', 37.792888, -122.403135, None, 'H24', 352312, None, 'OMNI San Francisco Hotel Corp', '500 California St, 2nd Floor', 'San Francisco', 'CA', '94104'),\n",
       " (31, \"Norman's Ice Cream and Freezes\", '2801 Leavenworth St', 'San Francisco', '94133', 37.807155, -122.419004, None, 'H24', 346882, None, 'Norman Antiforda', '2801 Leavenworth St', 'San Francisco', 'CA', '94133'),\n",
       " (45, \"CHARLIE'S DELI CAFE\", '3202 FOLSOM St', 'S.F.', '94110', 37.747114, -122.413641, None, 'H24', 340024, '2001-10-10', 'HARB, CHARLES AND KRISTIN', '1150 SANCHEZ', 'S.F.', 'CA', '94114')]"
      ]
     },
     "execution_count": 17,
     "metadata": {},
     "output_type": "execute_result"
    }
   ],
   "source": [
    "%%sql\n",
    "SELECT * FROM businesses LIMIT 5;"
   ]
  },
  {
   "cell_type": "markdown",
   "metadata": {},
   "source": [
    "** 10. Find the restaurant owners (owner_name) that own one or multiple restaurants in the city\n",
    "    with the number of restaurants (num_restaurants) they own.\n",
    "    Find the first top 10 owners ordered by descending order using the number of restaurants.**"
   ]
  },
  {
   "cell_type": "code",
   "execution_count": 18,
   "metadata": {},
   "outputs": [
    {
     "name": "stdout",
     "output_type": "stream",
     "text": [
      " * sqlite:///data/sfscores.sqlite\n",
      "Done.\n"
     ]
    },
    {
     "data": {
      "text/html": [
       "<table>\n",
       "    <tr>\n",
       "        <th>owner_name</th>\n",
       "        <th>num_restaurants</th>\n",
       "    </tr>\n",
       "    <tr>\n",
       "        <td>VOLUME SERVICES AMERICA</td>\n",
       "        <td>94</td>\n",
       "    </tr>\n",
       "    <tr>\n",
       "        <td>Department of Children, Youth and their Families</td>\n",
       "        <td>64</td>\n",
       "    </tr>\n",
       "    <tr>\n",
       "        <td>SFUSD</td>\n",
       "        <td>44</td>\n",
       "    </tr>\n",
       "    <tr>\n",
       "        <td>Volume Services, Inc.</td>\n",
       "        <td>41</td>\n",
       "    </tr>\n",
       "    <tr>\n",
       "        <td>Children&#x27;s Empowerment Inc.</td>\n",
       "        <td>37</td>\n",
       "    </tr>\n",
       "    <tr>\n",
       "        <td>SAN FRANCISCO UNIFIED SCHOOL</td>\n",
       "        <td>34</td>\n",
       "    </tr>\n",
       "    <tr>\n",
       "        <td>WALGREEN CO.</td>\n",
       "        <td>17</td>\n",
       "    </tr>\n",
       "    <tr>\n",
       "        <td>Walgreen Co</td>\n",
       "        <td>15</td>\n",
       "    </tr>\n",
       "    <tr>\n",
       "        <td>SMG Food and Beverage LLC</td>\n",
       "        <td>15</td>\n",
       "    </tr>\n",
       "    <tr>\n",
       "        <td>Walgreen Co.</td>\n",
       "        <td>14</td>\n",
       "    </tr>\n",
       "</table>"
      ],
      "text/plain": [
       "[('VOLUME SERVICES AMERICA', 94),\n",
       " ('Department of Children, Youth and their Families', 64),\n",
       " ('SFUSD', 44),\n",
       " ('Volume Services, Inc.', 41),\n",
       " (\"Children's Empowerment Inc.\", 37),\n",
       " ('SAN FRANCISCO UNIFIED SCHOOL', 34),\n",
       " ('WALGREEN CO.', 17),\n",
       " ('Walgreen Co', 15),\n",
       " ('SMG Food and Beverage LLC', 15),\n",
       " ('Walgreen Co.', 14)]"
      ]
     },
     "execution_count": 18,
     "metadata": {},
     "output_type": "execute_result"
    }
   ],
   "source": [
    "%%sql\n",
    "SELECT owner_name, COUNT(*) AS num_restaurants\n",
    "FROM businesses\n",
    "GROUP BY owner_name\n",
    "ORDER BY num_restaurants DESC\n",
    "LIMIT 10"
   ]
  },
  {
   "cell_type": "markdown",
   "metadata": {},
   "source": [
    "## Pt3: Subqueries and joins"
   ]
  },
  {
   "cell_type": "markdown",
   "metadata": {},
   "source": [
    "** 11. From the businesses table, select the top 10 most popular postal_code. They should be filtered to only count the restaurants owned by people/entities that own 5 or more restaurants. The final result should return a row (postal_code, count) for each 10 selection and be sorted by descending order to get the most relevant zip codes\n",
    "**"
   ]
  },
  {
   "cell_type": "code",
   "execution_count": 19,
   "metadata": {},
   "outputs": [
    {
     "name": "stdout",
     "output_type": "stream",
     "text": [
      " * sqlite:///data/sfscores.sqlite\n",
      "Done.\n"
     ]
    },
    {
     "data": {
      "text/html": [
       "<table>\n",
       "    <tr>\n",
       "        <th>postal_code</th>\n",
       "        <th>count</th>\n",
       "    </tr>\n",
       "    <tr>\n",
       "        <td>94107</td>\n",
       "        <td>179</td>\n",
       "    </tr>\n",
       "    <tr>\n",
       "        <td>94103</td>\n",
       "        <td>68</td>\n",
       "    </tr>\n",
       "    <tr>\n",
       "        <td>94102</td>\n",
       "        <td>56</td>\n",
       "    </tr>\n",
       "    <tr>\n",
       "        <td>94110</td>\n",
       "        <td>32</td>\n",
       "    </tr>\n",
       "    <tr>\n",
       "        <td>94112</td>\n",
       "        <td>30</td>\n",
       "    </tr>\n",
       "    <tr>\n",
       "        <td>94104</td>\n",
       "        <td>28</td>\n",
       "    </tr>\n",
       "    <tr>\n",
       "        <td>94124</td>\n",
       "        <td>27</td>\n",
       "    </tr>\n",
       "    <tr>\n",
       "        <td>94105</td>\n",
       "        <td>23</td>\n",
       "    </tr>\n",
       "    <tr>\n",
       "        <td>94133</td>\n",
       "        <td>22</td>\n",
       "    </tr>\n",
       "    <tr>\n",
       "        <td>94111</td>\n",
       "        <td>21</td>\n",
       "    </tr>\n",
       "</table>"
      ],
      "text/plain": [
       "[('94107', 179),\n",
       " ('94103', 68),\n",
       " ('94102', 56),\n",
       " ('94110', 32),\n",
       " ('94112', 30),\n",
       " ('94104', 28),\n",
       " ('94124', 27),\n",
       " ('94105', 23),\n",
       " ('94133', 22),\n",
       " ('94111', 21)]"
      ]
     },
     "execution_count": 19,
     "metadata": {},
     "output_type": "execute_result"
    }
   ],
   "source": [
    "%%sql\n",
    "SELECT postal_code, COUNT(*) AS count\n",
    "FROM businesses \n",
    "WHERE owner_name in (SELECT owner_name\n",
    "                        FROM businesses\n",
    "                        GROUP BY owner_name\n",
    "                        HAVING COUNT(*) >= 5\n",
    "                        ORDER BY COUNT(*) DESC)\n",
    "GROUP BY postal_code\n",
    "ORDER BY count DESC\n",
    "lIMIT 10"
   ]
  },
  {
   "cell_type": "markdown",
   "metadata": {},
   "source": [
    "**12. First let's get an idea about the inspection score our competition has.\n",
    "    Based on multiple inspections, find out the minimum Score (as \"min_score\"),\n",
    "    average Score (as \"avg_score\") and maximum Score (as \"max_score\") for all restaurant in post code \"94103\".\n",
    "    The average score should be rounded to one decimal.**"
   ]
  },
  {
   "cell_type": "code",
   "execution_count": 20,
   "metadata": {},
   "outputs": [
    {
     "name": "stdout",
     "output_type": "stream",
     "text": [
      " * sqlite:///data/sfscores.sqlite\n",
      "Done.\n"
     ]
    },
    {
     "data": {
      "text/html": [
       "<table>\n",
       "    <tr>\n",
       "        <th>min_score</th>\n",
       "        <th>avg_score</th>\n",
       "        <th>max_score</th>\n",
       "    </tr>\n",
       "    <tr>\n",
       "        <td>54</td>\n",
       "        <td>90.2</td>\n",
       "        <td>100</td>\n",
       "    </tr>\n",
       "</table>"
      ],
      "text/plain": [
       "[(54, 90.2, 100)]"
      ]
     },
     "execution_count": 20,
     "metadata": {},
     "output_type": "execute_result"
    }
   ],
   "source": [
    "%%sql\n",
    "SELECT MIN(Score) AS min_score, ROUND(AVG(SCORE),1) AS avg_score, MAX(Score) AS max_score\n",
    "FROM inspections\n",
    "WHERE business_id  in (SELECT business_id \n",
    "                       FROM businesses\n",
    "                       WHERE postal_code = 94103)"
   ]
  },
  {
   "cell_type": "code",
   "execution_count": 24,
   "metadata": {},
   "outputs": [
    {
     "name": "stdout",
     "output_type": "stream",
     "text": [
      " * sqlite:///data/sfscores.sqlite\n",
      "Done.\n"
     ]
    },
    {
     "data": {
      "text/html": [
       "<table>\n",
       "    <tr>\n",
       "        <th>min_score</th>\n",
       "        <th>avg_score</th>\n",
       "        <th>max_score</th>\n",
       "    </tr>\n",
       "    <tr>\n",
       "        <td>54</td>\n",
       "        <td>90.2</td>\n",
       "        <td>100</td>\n",
       "    </tr>\n",
       "</table>"
      ],
      "text/plain": [
       "[(54, 90.2, 100)]"
      ]
     },
     "execution_count": 24,
     "metadata": {},
     "output_type": "execute_result"
    }
   ],
   "source": [
    "%%sql\n",
    "SELECT MIN(Score) AS min_score, ROUND(AVG(SCORE),1) AS avg_score, MAX(Score) AS max_score\n",
    "FROM businesses AS b\n",
    "INNER JOIN inspections AS i\n",
    "ON b.business_id = i.business_id\n",
    "WHERE postal_code = 94103;"
   ]
  },
  {
   "cell_type": "markdown",
   "metadata": {},
   "source": [
    "** 13. Now lets get more serious, and look at how many times restaurants in Market street\n",
    "    (postal_code: 94103) has committed health violations and group them based on their risk category.\n",
    "    The output should be (risk_category, count as frequency) and sorted in descending order by frequency**"
   ]
  },
  {
   "cell_type": "code",
   "execution_count": 22,
   "metadata": {},
   "outputs": [
    {
     "name": "stdout",
     "output_type": "stream",
     "text": [
      " * sqlite:///data/sfscores.sqlite\n",
      "Done.\n"
     ]
    },
    {
     "data": {
      "text/html": [
       "<table>\n",
       "    <tr>\n",
       "        <th>risk_category</th>\n",
       "        <th>frequency</th>\n",
       "    </tr>\n",
       "    <tr>\n",
       "        <td>Low Risk</td>\n",
       "        <td>1746</td>\n",
       "    </tr>\n",
       "    <tr>\n",
       "        <td>Moderate Risk</td>\n",
       "        <td>1229</td>\n",
       "    </tr>\n",
       "    <tr>\n",
       "        <td>High Risk</td>\n",
       "        <td>520</td>\n",
       "    </tr>\n",
       "</table>"
      ],
      "text/plain": [
       "[('Low Risk', 1746), ('Moderate Risk', 1229), ('High Risk', 520)]"
      ]
     },
     "execution_count": 22,
     "metadata": {},
     "output_type": "execute_result"
    }
   ],
   "source": [
    "%%sql\n",
    "SELECT risk_category, COUNT(*) AS frequency\n",
    "FROM violations\n",
    "WHERE business_id  in (SELECT business_id \n",
    "                       FROM businesses\n",
    "                       WHERE postal_code = 94103)\n",
    "GROUP BY risk_category\n",
    "ORDER BY frequency DESC"
   ]
  },
  {
   "cell_type": "code",
   "execution_count": 31,
   "metadata": {},
   "outputs": [
    {
     "name": "stdout",
     "output_type": "stream",
     "text": [
      " * sqlite:///data/sfscores.sqlite\n",
      "Done.\n"
     ]
    },
    {
     "data": {
      "text/html": [
       "<table>\n",
       "    <tr>\n",
       "        <th>risk_category</th>\n",
       "        <th>frequency</th>\n",
       "    </tr>\n",
       "    <tr>\n",
       "        <td>Low Risk</td>\n",
       "        <td>1746</td>\n",
       "    </tr>\n",
       "    <tr>\n",
       "        <td>Moderate Risk</td>\n",
       "        <td>1229</td>\n",
       "    </tr>\n",
       "    <tr>\n",
       "        <td>High Risk</td>\n",
       "        <td>520</td>\n",
       "    </tr>\n",
       "</table>"
      ],
      "text/plain": [
       "[('Low Risk', 1746), ('Moderate Risk', 1229), ('High Risk', 520)]"
      ]
     },
     "execution_count": 31,
     "metadata": {},
     "output_type": "execute_result"
    }
   ],
   "source": [
    "%%sql\n",
    "SELECT risk_category, COUNT(*) AS frequency\n",
    "FROM businesses\n",
    "INNER JOIN violations\n",
    "ON businesses.business_id = violations.business_id\n",
    "WHERE postal_code = 94103\n",
    "GROUP BY risk_category\n",
    "ORDER BY frequency DESC"
   ]
  }
 ],
 "metadata": {
  "kernelspec": {
   "display_name": "Python (ads05)",
   "language": "python",
   "name": "ads05"
  },
  "language_info": {
   "codemirror_mode": {
    "name": "ipython",
    "version": 3
   },
   "file_extension": ".py",
   "mimetype": "text/x-python",
   "name": "python",
   "nbconvert_exporter": "python",
   "pygments_lexer": "ipython3",
   "version": "3.8.2"
  }
 },
 "nbformat": 4,
 "nbformat_minor": 1
}
